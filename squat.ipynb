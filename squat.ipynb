{
 "cells": [
  {
   "cell_type": "code",
   "execution_count": 1,
   "metadata": {},
   "outputs": [],
   "source": [
    "import os\n",
    "import cv2\n",
    "import mediapipe as mp\n",
    "import pandas as pd\n",
    "import numpy as np\n",
    "import matplotlib.pyplot as plt"
   ]
  },
  {
   "cell_type": "code",
   "execution_count": 2,
   "metadata": {},
   "outputs": [],
   "source": [
    "mp_drawing = mp.solutions.drawing_utils\n",
    "mp_drawing_styles = mp.solutions.drawing_styles\n",
    "mp_pose = mp.solutions.pose"
   ]
  },
  {
   "attachments": {},
   "cell_type": "markdown",
   "metadata": {},
   "source": [
    "<img title=\"a title\" alt=\"Alt text\" src=\"https://mediapipe.dev/images/mobile/pose_tracking_full_body_landmarks.png\">"
   ]
  },
  {
   "cell_type": "code",
   "execution_count": 3,
   "metadata": {},
   "outputs": [],
   "source": [
    "include_points = [23,24,25,26,27,28]\n",
    "def create_df():\n",
    "    columns=['Form']\n",
    "\n",
    "    for pt in include_points:\n",
    "        landmark = str(mp_pose.PoseLandmark(pt))\n",
    "        columns.append(landmark[13:]+ '_x')\n",
    "        columns.append(landmark[13:]+ '_y')\n",
    "\n",
    "    return pd.DataFrame(columns=columns)"
   ]
  },
  {
   "cell_type": "code",
   "execution_count": 4,
   "metadata": {},
   "outputs": [],
   "source": [
    "def calulate_angle(a,b,c):\n",
    "    a = np.array(a) # First\n",
    "    b = np.array(b) # Mid\n",
    "    c = np.array(c) # End\n",
    "\n",
    "    radians = np.arctan2(c[1]-b[1], c[0]-b[0]) - np.arctan2(a[1]-b[1], a[0]-b[0])\n",
    "    angle = np.abs(radians*180.0/np.pi)\n",
    "\n",
    "    if angle > 180.0:\n",
    "        angle = 360-angle\n",
    "\n",
    "    return angle"
   ]
  },
  {
   "cell_type": "code",
   "execution_count": 5,
   "metadata": {},
   "outputs": [],
   "source": [
    "def calculate_disance(a,b):\n",
    "    a = np.array(a)\n",
    "    b = np.array(b)\n",
    "\n",
    "    return np.linalg.norm(a-b)"
   ]
  },
  {
   "cell_type": "code",
   "execution_count": 6,
   "metadata": {},
   "outputs": [],
   "source": [
    "def record_data(name, label):\n",
    "    df = create_df()\n",
    "\n",
    "    cap = cv2.VideoCapture(name)\n",
    "    with mp_pose.Pose(min_detection_confidence=0.5, min_tracking_confidence=0.5) as pose:\n",
    "        while cap.isOpened():\n",
    "            ret, frame = cap.read()\n",
    "\n",
    "            if ret==False:\n",
    "                break\n",
    "\n",
    "            # Recolor image to RGB\n",
    "            image = cv2.cvtColor(frame, cv2.COLOR_BGR2RGB)\n",
    "            image.flags.writeable = False\n",
    "\n",
    "            # Make detection\n",
    "            results = pose.process(image)\n",
    "            left_shoulder = [results.pose_landmarks.landmark[mp_pose.PoseLandmark.LEFT_SHOULDER].x, results.pose_landmarks.landmark[mp_pose.PoseLandmark.LEFT_SHOULDER].y]\n",
    "            right_shoulder = [results.pose_landmarks.landmark[mp_pose.PoseLandmark.RIGHT_SHOULDER].x, results.pose_landmarks.landmark[mp_pose.PoseLandmark.RIGHT_SHOULDER].y]\n",
    "            shoulder_distance = calculate_disance(left_shoulder, right_shoulder)\n",
    "            row=[label]\n",
    "            for pt in include_points:\n",
    "                row.append(results.pose_landmarks.landmark[pt].x/shoulder_distance)\n",
    "                row.append(results.pose_landmarks.landmark[pt].y/shoulder_distance)\n",
    "            df.loc[len(df)] = row\n",
    "\n",
    "            #Recolor back to BGR\n",
    "            image.flags.writeable = True\n",
    "            image = cv2.cvtColor(image, cv2.COLOR_RGB2BGR)\n",
    "            resize = cv2.resize(image, (405, 720))\n",
    "\n",
    "            # Render detections\n",
    "            mp_drawing.draw_landmarks(resize, results.pose_landmarks, mp_pose.POSE_CONNECTIONS,\n",
    "                                      mp_drawing.DrawingSpec(color=(245,117,66), thickness=2, circle_radius=2),\n",
    "                                      mp_drawing.DrawingSpec(color=(245,66,230), thickness=2, circle_radius=2))\n",
    "            cv2.imshow('MediaPipe Pose', resize)\n",
    "\n",
    "            if cv2.waitKey(10) & 0xFF == ord('q'):\n",
    "                break\n",
    "\n",
    "        cap.release()\n",
    "        cv2.destroyAllWindows()\n",
    "    return df"
   ]
  },
  {
   "cell_type": "code",
   "execution_count": 7,
   "metadata": {},
   "outputs": [],
   "source": [
    "for root, dirs, files in os.walk(\"vids/correct\"):\n",
    "    for index, file in enumerate(files):\n",
    "        if file.endswith(\".mp4\"):\n",
    "            df = record_data(os.path.join(root, file), \"proper\")\n",
    "            df.to_csv('out/csv/correct/'+str(index+1)+'.csv', index=False)"
   ]
  },
  {
   "cell_type": "code",
   "execution_count": 8,
   "metadata": {},
   "outputs": [],
   "source": [
    "for root, dirs, files in os.walk(\"vids/incorrect\"):\n",
    "    for index, file in enumerate(files):\n",
    "        if file.endswith(\".mp4\"):\n",
    "            df = record_data(os.path.join(root, file), \"icomplete\")\n",
    "            df.to_csv('out/csv/incorrect/'+str(index+1)+'.csv', index=False)"
   ]
  },
  {
   "attachments": {},
   "cell_type": "markdown",
   "metadata": {},
   "source": [
    "<img >"
   ]
  }
 ],
 "metadata": {
  "kernelspec": {
   "display_name": "venv",
   "language": "python",
   "name": "python3"
  },
  "language_info": {
   "codemirror_mode": {
    "name": "ipython",
    "version": 3
   },
   "file_extension": ".py",
   "mimetype": "text/x-python",
   "name": "python",
   "nbconvert_exporter": "python",
   "pygments_lexer": "ipython3",
   "version": "3.10.0"
  },
  "orig_nbformat": 4,
  "vscode": {
   "interpreter": {
    "hash": "04d93e132582a857eb52eea1df9481df2a70d0bce61443b1355e4339faff603b"
   }
  }
 },
 "nbformat": 4,
 "nbformat_minor": 2
}
